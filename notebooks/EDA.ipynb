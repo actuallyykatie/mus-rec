{
  "nbformat": 4,
  "nbformat_minor": 0,
  "metadata": {
    "colab": {
      "name": "EDA.ipynb",
      "version": "0.3.2",
      "provenance": []
    },
    "kernelspec": {
      "name": "python3",
      "display_name": "Python 3"
    }
  },
  "cells": [
    {
      "cell_type": "markdown",
      "metadata": {
        "id": "IBmEYclfWMYP",
        "colab_type": "text"
      },
      "source": [
        "# Exploratory Data Analysis"
      ]
    },
    {
      "cell_type": "markdown",
      "metadata": {
        "id": "kmL1P4iYWbq-",
        "colab_type": "text"
      },
      "source": [
        "Подгружаем пакеты"
      ]
    },
    {
      "cell_type": "code",
      "metadata": {
        "id": "bk6ODLXsVjF-",
        "colab_type": "code",
        "colab": {}
      },
      "source": [
        "import numpy as np\n",
        "import pandas as pd\n",
        "import seaborn as sns\n",
        "import wordcloud as wc\n",
        "import matplotlib.cm as cm\n",
        "import matplotlib.pyplot as plt\n",
        "import os\n",
        "#import matplotlib.colors as mpl_colors"
      ],
      "execution_count": 0,
      "outputs": []
    },
    {
      "cell_type": "code",
      "metadata": {
        "id": "JjuWhSy4JrCR",
        "colab_type": "code",
        "colab": {}
      },
      "source": [
        "from google.colab import drive\n",
        "drive.mount('/content/drive/')"
      ],
      "execution_count": 0,
      "outputs": []
    },
    {
      "cell_type": "code",
      "metadata": {
        "id": "SCP0TudaJvWL",
        "colab_type": "code",
        "colab": {}
      },
      "source": [
        "PATH_TO_DATA = '/content/drive/My Drive/MusicRecommenderDSMinor/'"
      ],
      "execution_count": 0,
      "outputs": []
    },
    {
      "cell_type": "markdown",
      "metadata": {
        "id": "f0k99k2LfFT8",
        "colab_type": "text"
      },
      "source": [
        "## Исполнители\n",
        "Датасет со списком исполнителей и их встречаемостью:"
      ]
    },
    {
      "cell_type": "code",
      "metadata": {
        "id": "P4YKq8MUezvO",
        "colab_type": "code",
        "colab": {
          "base_uri": "https://localhost:8080/",
          "height": 53
        },
        "outputId": "e3c2a7f5-23db-4e5e-bd51-4412ad64bc60"
      },
      "source": [
        "%%time\n",
        "art_aggr = pd.read_csv(os.path.join(PATH_TO_DATA, 'data/artists_agg.csv'), error_bad_lines=False, header=None, names=['artist','count']) "
      ],
      "execution_count": 25,
      "outputs": [
        {
          "output_type": "stream",
          "text": [
            "CPU times: user 8.93 s, sys: 617 ms, total: 9.55 s\n",
            "Wall time: 10 s\n"
          ],
          "name": "stdout"
        }
      ]
    },
    {
      "cell_type": "code",
      "metadata": {
        "id": "Mf2XFD4RiW92",
        "colab_type": "code",
        "colab": {
          "base_uri": "https://localhost:8080/",
          "height": 35
        },
        "outputId": "d80ebf7c-d037-4371-cc8c-fb2f144c937b"
      },
      "source": [
        "art_aggr.shape"
      ],
      "execution_count": 26,
      "outputs": [
        {
          "output_type": "execute_result",
          "data": {
            "text/plain": [
              "(5575698, 2)"
            ]
          },
          "metadata": {
            "tags": []
          },
          "execution_count": 26
        }
      ]
    },
    {
      "cell_type": "code",
      "metadata": {
        "id": "0pkJS6UIiqon",
        "colab_type": "code",
        "colab": {
          "base_uri": "https://localhost:8080/",
          "height": 204
        },
        "outputId": "11ddc9aa-f06b-4348-b330-08cc73f5b2ec"
      },
      "source": [
        "art_aggr.iloc[1900:1905]"
      ],
      "execution_count": 38,
      "outputs": [
        {
          "output_type": "execute_result",
          "data": {
            "text/html": [
              "<div>\n",
              "<style scoped>\n",
              "    .dataframe tbody tr th:only-of-type {\n",
              "        vertical-align: middle;\n",
              "    }\n",
              "\n",
              "    .dataframe tbody tr th {\n",
              "        vertical-align: top;\n",
              "    }\n",
              "\n",
              "    .dataframe thead th {\n",
              "        text-align: right;\n",
              "    }\n",
              "</style>\n",
              "<table border=\"1\" class=\"dataframe\">\n",
              "  <thead>\n",
              "    <tr style=\"text-align: right;\">\n",
              "      <th></th>\n",
              "      <th>artist</th>\n",
              "      <th>count</th>\n",
              "    </tr>\n",
              "  </thead>\n",
              "  <tbody>\n",
              "    <tr>\n",
              "      <th>1900</th>\n",
              "      <td>Fred Astaire &amp; Judy Garland</td>\n",
              "      <td>1.0</td>\n",
              "    </tr>\n",
              "    <tr>\n",
              "      <th>1901</th>\n",
              "      <td>Gaullin    Remix</td>\n",
              "      <td>1.0</td>\n",
              "    </tr>\n",
              "    <tr>\n",
              "      <th>1902</th>\n",
              "      <td>Gusttavo Lima</td>\n",
              "      <td>2.0</td>\n",
              "    </tr>\n",
              "    <tr>\n",
              "      <th>1903</th>\n",
              "      <td>HSHpro &amp; Amsterdam aka Mikro</td>\n",
              "      <td>1.0</td>\n",
              "    </tr>\n",
              "    <tr>\n",
              "      <th>1904</th>\n",
              "      <td>Hasenchat Musik</td>\n",
              "      <td>1.0</td>\n",
              "    </tr>\n",
              "  </tbody>\n",
              "</table>\n",
              "</div>"
            ],
            "text/plain": [
              "                                 artist  count\n",
              "1900       Fred Astaire & Judy Garland     1.0\n",
              "1901                   Gaullin    Remix    1.0\n",
              "1902                     Gusttavo Lima     2.0\n",
              "1903       HSHpro & Amsterdam aka Mikro    1.0\n",
              "1904                    Hasenchat Musik    1.0"
            ]
          },
          "metadata": {
            "tags": []
          },
          "execution_count": 38
        }
      ]
    },
    {
      "cell_type": "code",
      "metadata": {
        "id": "EAFD74uSe2FX",
        "colab_type": "code",
        "colab": {
          "base_uri": "https://localhost:8080/",
          "height": 80
        },
        "outputId": "61bb4962-05da-43c5-ceb1-57157f9c2a24"
      },
      "source": [
        "art_aggr.query('artist == \"Ariana Grande\"')"
      ],
      "execution_count": 82,
      "outputs": [
        {
          "output_type": "execute_result",
          "data": {
            "text/html": [
              "<div>\n",
              "<style scoped>\n",
              "    .dataframe tbody tr th:only-of-type {\n",
              "        vertical-align: middle;\n",
              "    }\n",
              "\n",
              "    .dataframe tbody tr th {\n",
              "        vertical-align: top;\n",
              "    }\n",
              "\n",
              "    .dataframe thead th {\n",
              "        text-align: right;\n",
              "    }\n",
              "</style>\n",
              "<table border=\"1\" class=\"dataframe\">\n",
              "  <thead>\n",
              "    <tr style=\"text-align: right;\">\n",
              "      <th></th>\n",
              "      <th>artist</th>\n",
              "      <th>count</th>\n",
              "    </tr>\n",
              "  </thead>\n",
              "  <tbody>\n",
              "    <tr>\n",
              "      <th>701876</th>\n",
              "      <td>Ariana Grande</td>\n",
              "      <td>7209.0</td>\n",
              "    </tr>\n",
              "  </tbody>\n",
              "</table>\n",
              "</div>"
            ],
            "text/plain": [
              "               artist   count\n",
              "701876  Ariana Grande  7209.0"
            ]
          },
          "metadata": {
            "tags": []
          },
          "execution_count": 82
        }
      ]
    },
    {
      "cell_type": "markdown",
      "metadata": {
        "id": "GG8kuWVEniWp",
        "colab_type": "text"
      },
      "source": [
        "**Из выводов**: много песен с неизвестным исполнителем, кто-то повторяется *(опечатки и разные варианты написания)* и посчитался немного не так, но пойдет, мы то рекомендуем хорошее (главное чтобы не garbage in, you know). Подправим попозже."
      ]
    },
    {
      "cell_type": "code",
      "metadata": {
        "id": "1fbn9hrClT3W",
        "colab_type": "code",
        "outputId": "7d1e7136-0f15-4dcc-a33e-13bb9f8eb9f1",
        "colab": {
          "base_uri": "https://localhost:8080/",
          "height": 359
        }
      },
      "source": [
        "art_aggr.sort_values(by=['count'], ascending=False).head(10)"
      ],
      "execution_count": 45,
      "outputs": [
        {
          "output_type": "execute_result",
          "data": {
            "text/html": [
              "<div>\n",
              "<style scoped>\n",
              "    .dataframe tbody tr th:only-of-type {\n",
              "        vertical-align: middle;\n",
              "    }\n",
              "\n",
              "    .dataframe tbody tr th {\n",
              "        vertical-align: top;\n",
              "    }\n",
              "\n",
              "    .dataframe thead th {\n",
              "        text-align: right;\n",
              "    }\n",
              "</style>\n",
              "<table border=\"1\" class=\"dataframe\">\n",
              "  <thead>\n",
              "    <tr style=\"text-align: right;\">\n",
              "      <th></th>\n",
              "      <th>artist</th>\n",
              "      <th>count</th>\n",
              "    </tr>\n",
              "  </thead>\n",
              "  <tbody>\n",
              "    <tr>\n",
              "      <th>1899237</th>\n",
              "      <td>Little Big</td>\n",
              "      <td>633718.0</td>\n",
              "    </tr>\n",
              "    <tr>\n",
              "      <th>4382602</th>\n",
              "      <td>Неизвестен</td>\n",
              "      <td>385805.0</td>\n",
              "    </tr>\n",
              "    <tr>\n",
              "      <th>3621608</th>\n",
              "      <td>Баста</td>\n",
              "      <td>369593.0</td>\n",
              "    </tr>\n",
              "    <tr>\n",
              "      <th>3936188</th>\n",
              "      <td>Егор Крид</td>\n",
              "      <td>283401.0</td>\n",
              "    </tr>\n",
              "    <tr>\n",
              "      <th>4238361</th>\n",
              "      <td>Макс Корж</td>\n",
              "      <td>279055.0</td>\n",
              "    </tr>\n",
              "    <tr>\n",
              "      <th>4087534</th>\n",
              "      <td>Каспийский Груз</td>\n",
              "      <td>271838.0</td>\n",
              "    </tr>\n",
              "    <tr>\n",
              "      <th>1326724</th>\n",
              "      <td>EA7</td>\n",
              "      <td>251003.0</td>\n",
              "    </tr>\n",
              "    <tr>\n",
              "      <th>4940484</th>\n",
              "      <td>Элджей</td>\n",
              "      <td>211184.0</td>\n",
              "    </tr>\n",
              "    <tr>\n",
              "      <th>4307770</th>\n",
              "      <td>Мот</td>\n",
              "      <td>194981.0</td>\n",
              "    </tr>\n",
              "    <tr>\n",
              "      <th>4177862</th>\n",
              "      <td>Ленинград</td>\n",
              "      <td>180635.0</td>\n",
              "    </tr>\n",
              "  </tbody>\n",
              "</table>\n",
              "</div>"
            ],
            "text/plain": [
              "                  artist     count\n",
              "1899237       Little Big  633718.0\n",
              "4382602       Неизвестен  385805.0\n",
              "3621608            Баста  369593.0\n",
              "3936188        Егор Крид  283401.0\n",
              "4238361        Макс Корж  279055.0\n",
              "4087534  Каспийский Груз  271838.0\n",
              "1326724              EA7  251003.0\n",
              "4940484           Элджей  211184.0\n",
              "4307770              Мот  194981.0\n",
              "4177862        Ленинград  180635.0"
            ]
          },
          "metadata": {
            "tags": []
          },
          "execution_count": 45
        }
      ]
    },
    {
      "cell_type": "markdown",
      "metadata": {
        "id": "NTz87CwaqbCR",
        "colab_type": "text"
      },
      "source": [
        "### Самые популярные исполнители"
      ]
    },
    {
      "cell_type": "code",
      "metadata": {
        "id": "3b3MGjFptXG9",
        "colab_type": "code",
        "colab": {}
      },
      "source": [
        "def barplot_art(df, topn, path_to_save):\n",
        "  sns.set( rc={'figure.figsize': (14, 7)}) # style='whitegrid', context='talk',\n",
        "  # оставляем только топ\n",
        "  df_top = df.sort_values(by=['count'], ascending=False).head(topn)\n",
        "  \n",
        "  # графичек\n",
        "  ax = sns.barplot(x='count', y='artist', data=df_top\n",
        "                   #, hue='name'\n",
        "                   , palette=sns.cubehelix_palette(topn, reverse=True))\n",
        "  ax.set(xlabel='сколько раз встречается',\n",
        "         ylabel='исполнитель')\n",
        "  \n",
        "  fig = plt.gcf()\n",
        "  plt.tight_layout()\n",
        "  \n",
        "  # сохраняем\n",
        "  fig.savefig(os.path.join(path_to_save, barplot_art.__name__  + '.png'), dpi=1200)\n",
        "  plt.show()\n",
        "  plt.close('all')"
      ],
      "execution_count": 0,
      "outputs": []
    },
    {
      "cell_type": "markdown",
      "metadata": {
        "id": "EgjNU3uLosvB",
        "colab_type": "text"
      },
      "source": [
        "Делаем график по 15 исполнителям:"
      ]
    },
    {
      "cell_type": "code",
      "metadata": {
        "id": "h-AZDVTgvDcF",
        "colab_type": "code",
        "outputId": "0a011900-25ff-4171-bef5-917c53dca729",
        "colab": {
          "base_uri": "https://localhost:8080/",
          "height": 509
        }
      },
      "source": [
        "barplot_art(art_aggr, 15, PATH_TO_DATA)"
      ],
      "execution_count": 76,
      "outputs": [
        {
          "output_type": "display_data",
          "data": {
            "image/png": "[encoded data removed]",
            "text/plain": [
              "<Figure size 1008x504 with 1 Axes>"
            ]
          },
          "metadata": {
            "tags": []
          }
        }
      ]
    },
    {
      "cell_type": "markdown",
      "metadata": {
        "id": "JmAVtSrZUbuc",
        "colab_type": "text"
      },
      "source": [
        "## Длина плейлиста"
      ]
    },
    {
      "cell_type": "code",
      "metadata": {
        "id": "UtHB0G2dFc8j",
        "colab_type": "code",
        "colab": {}
      },
      "source": [
        "users_count = pd.read_csv(os.path.join(PATH_TO_DATA, 'data/users_count.csv'), error_bad_lines=False, header=None, names=['ind', 'user', 'cnt'], index_col=0)"
      ],
      "execution_count": 0,
      "outputs": []
    },
    {
      "cell_type": "code",
      "metadata": {
        "id": "f3hEO9vLGQfv",
        "colab_type": "code",
        "outputId": "efe76c77-4344-45ff-fc8d-28ea69f23469",
        "colab": {
          "base_uri": "https://localhost:8080/",
          "height": 235
        }
      },
      "source": [
        "users_count.head()"
      ],
      "execution_count": 57,
      "outputs": [
        {
          "output_type": "execute_result",
          "data": {
            "text/html": [
              "<div>\n",
              "<style scoped>\n",
              "    .dataframe tbody tr th:only-of-type {\n",
              "        vertical-align: middle;\n",
              "    }\n",
              "\n",
              "    .dataframe tbody tr th {\n",
              "        vertical-align: top;\n",
              "    }\n",
              "\n",
              "    .dataframe thead th {\n",
              "        text-align: right;\n",
              "    }\n",
              "</style>\n",
              "<table border=\"1\" class=\"dataframe\">\n",
              "  <thead>\n",
              "    <tr style=\"text-align: right;\">\n",
              "      <th></th>\n",
              "      <th>user</th>\n",
              "      <th>cnt</th>\n",
              "    </tr>\n",
              "    <tr>\n",
              "      <th>ind</th>\n",
              "      <th></th>\n",
              "      <th></th>\n",
              "    </tr>\n",
              "  </thead>\n",
              "  <tbody>\n",
              "    <tr>\n",
              "      <th>0</th>\n",
              "      <td>160</td>\n",
              "      <td>5055</td>\n",
              "    </tr>\n",
              "    <tr>\n",
              "      <th>1</th>\n",
              "      <td>301</td>\n",
              "      <td>4234</td>\n",
              "    </tr>\n",
              "    <tr>\n",
              "      <th>2</th>\n",
              "      <td>70</td>\n",
              "      <td>3984</td>\n",
              "    </tr>\n",
              "    <tr>\n",
              "      <th>3</th>\n",
              "      <td>255</td>\n",
              "      <td>3883</td>\n",
              "    </tr>\n",
              "    <tr>\n",
              "      <th>4</th>\n",
              "      <td>271</td>\n",
              "      <td>2631</td>\n",
              "    </tr>\n",
              "  </tbody>\n",
              "</table>\n",
              "</div>"
            ],
            "text/plain": [
              "    user   cnt\n",
              "ind           \n",
              "0    160  5055\n",
              "1    301  4234\n",
              "2     70  3984\n",
              "3    255  3883\n",
              "4    271  2631"
            ]
          },
          "metadata": {
            "tags": []
          },
          "execution_count": 57
        }
      ]
    },
    {
      "cell_type": "markdown",
      "metadata": {
        "id": "sNKd5QFCtrGW",
        "colab_type": "text"
      },
      "source": [
        "Note: из-за того, что датасет обрабатывался по чанкам, плейлисты юзеров могли посчитаться по частям."
      ]
    },
    {
      "cell_type": "code",
      "metadata": {
        "id": "zeMXMIbRaetp",
        "colab_type": "code",
        "outputId": "5c7b15a5-9219-41fb-dfc1-5954d9d4e488",
        "colab": {
          "base_uri": "https://localhost:8080/",
          "height": 35
        }
      },
      "source": [
        "users_count.shape"
      ],
      "execution_count": 58,
      "outputs": [
        {
          "output_type": "execute_result",
          "data": {
            "text/plain": [
              "(969677, 2)"
            ]
          },
          "metadata": {
            "tags": []
          },
          "execution_count": 58
        }
      ]
    },
    {
      "cell_type": "code",
      "metadata": {
        "id": "QdVtsKtSICWf",
        "colab_type": "code",
        "outputId": "cfc94d7e-37e0-40e7-c445-be9830d4b2c3",
        "colab": {
          "base_uri": "https://localhost:8080/",
          "height": 35
        }
      },
      "source": [
        "users_count.user.nunique()  # число юзеров"
      ],
      "execution_count": 59,
      "outputs": [
        {
          "output_type": "execute_result",
          "data": {
            "text/plain": [
              "968772"
            ]
          },
          "metadata": {
            "tags": []
          },
          "execution_count": 59
        }
      ]
    },
    {
      "cell_type": "markdown",
      "metadata": {
        "id": "md7tIkvVwtia",
        "colab_type": "text"
      },
      "source": [
        "Но можно починить :))"
      ]
    },
    {
      "cell_type": "code",
      "metadata": {
        "id": "YqXOpSIcGWv7",
        "colab_type": "code",
        "outputId": "1098abca-cb60-41f9-c933-b458a37599ce",
        "colab": {
          "base_uri": "https://localhost:8080/",
          "height": 143
        }
      },
      "source": [
        "users_count.groupby('user')['cnt'].agg('sum').sort_values(ascending=False).head()"
      ],
      "execution_count": 60,
      "outputs": [
        {
          "output_type": "execute_result",
          "data": {
            "text/plain": [
              "user\n",
              "949095    15492\n",
              "905057    15249\n",
              "910408    15009\n",
              "916744    14925\n",
              "460240    14022\n",
              "Name: cnt, dtype: int64"
            ]
          },
          "metadata": {
            "tags": []
          },
          "execution_count": 60
        }
      ]
    },
    {
      "cell_type": "markdown",
      "metadata": {
        "id": "xRWb-6oXw8YU",
        "colab_type": "text"
      },
      "source": [
        "- В среднем - 94 песни\n",
        "- Но медиана полезнее - 17\n",
        "- Самый большой - 15 492"
      ]
    },
    {
      "cell_type": "code",
      "metadata": {
        "id": "kzKYcsYJwzoJ",
        "colab_type": "code",
        "colab": {
          "base_uri": "https://localhost:8080/",
          "height": 179
        },
        "outputId": "71281de2-9a72-4054-d751-a8648930952e"
      },
      "source": [
        "users_count.groupby('user')['cnt'].agg('sum').describe()"
      ],
      "execution_count": 84,
      "outputs": [
        {
          "output_type": "execute_result",
          "data": {
            "text/plain": [
              "count    968772.000000\n",
              "mean         94.951992\n",
              "std         288.149779\n",
              "min           1.000000\n",
              "25%           4.000000\n",
              "50%          17.000000\n",
              "75%          69.000000\n",
              "max       15492.000000\n",
              "Name: cnt, dtype: float64"
            ]
          },
          "metadata": {
            "tags": []
          },
          "execution_count": 84
        }
      ]
    },
    {
      "cell_type": "code",
      "metadata": {
        "id": "1ken6mRYxOxu",
        "colab_type": "code",
        "colab": {
          "base_uri": "https://localhost:8080/",
          "height": 35
        },
        "outputId": "15946a7a-5511-4221-fc20-f1a88fc5c9ab"
      },
      "source": [
        "users_count.groupby('user')['cnt'].agg('sum').median()"
      ],
      "execution_count": 85,
      "outputs": [
        {
          "output_type": "execute_result",
          "data": {
            "text/plain": [
              "17.0"
            ]
          },
          "metadata": {
            "tags": []
          },
          "execution_count": 85
        }
      ]
    },
    {
      "cell_type": "markdown",
      "metadata": {
        "id": "QBGx1V1lxcAD",
        "colab_type": "text"
      },
      "source": [
        "И график"
      ]
    },
    {
      "cell_type": "code",
      "metadata": {
        "id": "fmwte3RPJ3WQ",
        "colab_type": "code",
        "colab": {}
      },
      "source": [
        "def dist_users(users_count, path_to_save):\n",
        "  sns.set( rc={'figure.figsize': (14, 7)}) # style='whitegrid', context='talk',\n",
        "  # df\n",
        "  df = pd.DataFrame(users_count.groupby('user')['cnt'].agg('sum'))\n",
        "  \n",
        "  # графичек\n",
        "  max_value = df.cnt.max()\n",
        "  ax = sns.distplot(df.cnt.value_counts(), bins=list(range(0, max_value, 50)),\n",
        "                    color='#4680c2', kde=False)\n",
        "  # ось х чтобы было видно, иначе все сбиваются в уголок\n",
        "  ax.set(xlabel='num of songs', ylabel='users')\n",
        "  ax.margins(x=0)\n",
        "  fig = plt.gcf()\n",
        "  plt.xlim(0,2000)\n",
        "  plt.tight_layout()\n",
        "  \n",
        "  # сохраняем\n",
        "  fig.savefig(os.path.join(path_to_save, dist_users.__name__ + '.png'), dpi=1200)\n",
        "  plt.show()\n",
        "  plt.close('all')"
      ],
      "execution_count": 0,
      "outputs": []
    },
    {
      "cell_type": "code",
      "metadata": {
        "id": "9BxgW1YUNH9n",
        "colab_type": "code",
        "outputId": "4e8ba654-85bd-40fc-9cc3-bd6898ec0e3a",
        "colab": {
          "base_uri": "https://localhost:8080/",
          "height": 509
        }
      },
      "source": [
        "dist_users(users_count, PATH_TO_DATA)"
      ],
      "execution_count": 88,
      "outputs": [
        {
          "output_type": "display_data",
          "data": {
            "image/png": "[encoded data removed]",
            "text/plain": [
              "<Figure size 1008x504 with 1 Axes>"
            ]
          },
          "metadata": {
            "tags": []
          }
        }
      ]
    }
  ]
}