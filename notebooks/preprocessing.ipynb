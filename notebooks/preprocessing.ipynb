{
  "nbformat": 4,
  "nbformat_minor": 0,
  "metadata": {
    "colab": {
      "name": "preprocessing.ipynb",
      "version": "0.3.2",
      "provenance": []
    },
    "kernelspec": {
      "name": "python3",
      "display_name": "Python 3"
    }
  },
  "cells": [
    {
      "cell_type": "markdown",
      "metadata": {
        "id": "d4n9TYeQ-W6S",
        "colab_type": "text"
      },
      "source": [
        "# Подготовка датасетов"
      ]
    },
    {
      "cell_type": "code",
      "metadata": {
        "id": "DdyrC-TlrEu0",
        "colab_type": "code",
        "colab": {}
      },
      "source": [
        "import numpy as np\n",
        "import pandas as pd \n",
        "import tqdm\n",
        "import gensim\n",
        "import os\n",
        "import pickle\n",
        "import json"
      ],
      "execution_count": 0,
      "outputs": []
    },
    {
      "cell_type": "code",
      "metadata": {
        "id": "JjuWhSy4JrCR",
        "colab_type": "code",
        "colab": {}
      },
      "source": [
        "from google.colab import drive\n",
        "drive.mount('/content/drive/')"
      ],
      "execution_count": 0,
      "outputs": []
    },
    {
      "cell_type": "code",
      "metadata": {
        "id": "SCP0TudaJvWL",
        "colab_type": "code",
        "colab": {}
      },
      "source": [
        "PATH_TO_DATA = '/content/drive/My Drive/MusicRecommenderDSMinor/'"
      ],
      "execution_count": 0,
      "outputs": []
    },
    {
      "cell_type": "markdown",
      "metadata": {
        "id": "YwtF_SCm-aLY",
        "colab_type": "text"
      },
      "source": [
        "### music lists\n",
        "- подготовка для ворд2век"
      ]
    },
    {
      "cell_type": "code",
      "metadata": {
        "id": "IjkqSavTvYFP",
        "colab_type": "code",
        "colab": {}
      },
      "source": [
        "with open(os.path.join(PATH_TO_DATA,'data/music_lists.csv'), 'w') as f:\n",
        "  # chunks - удобно для обработки больших по размеру датасетов\n",
        "  for chunk in pd.read_csv(os.path.join(PATH_TO_DATA, 'data/dataset_anon.csv'), \n",
        "                           header=None, iterator=True, chunksize=100000,\n",
        "                           lineterminator='\\n', error_bad_lines=False):\n",
        "    # присваиваем названия столбцам\n",
        "    chunk.columns = ['user', 'song', 'artist']\n",
        "    chunk['artist'] = chunk['artist'].astype(str)\n",
        "    # group & join\n",
        "    chunk = chunk.groupby('user')['artist'].apply(','.join).reset_index()\n",
        "    \n",
        "    for row in chunk.iterrows():\n",
        "      f.write(row[1]['artist'] + '\\n')"
      ],
      "execution_count": 0,
      "outputs": []
    },
    {
      "cell_type": "markdown",
      "metadata": {
        "id": "4o7bZJ1R-eG4",
        "colab_type": "text"
      },
      "source": [
        "### Исполнители"
      ]
    },
    {
      "cell_type": "code",
      "metadata": {
        "id": "dyNILV2GXUfm",
        "colab_type": "code",
        "colab": {}
      },
      "source": [
        "with open(os.path.join(PATH_TO_DATA, 'data/artists.csv'), 'w') as f:\n",
        "  for chunk in pd.read_csv(os.path.join(PATH_TO_DATA, 'data/dataset_anon.csv'), \n",
        "                           header=None, iterator=True, chunksize=100000,\n",
        "                           lineterminator='\\n', error_bad_lines=False):\n",
        "    # присв. названия столбцам\n",
        "    chunk.columns = ['user', 'song', 'artist']\n",
        "    chunk['artist'] = chunk['artist'].astype(str)\n",
        "    # считаемся\n",
        "    chunk = chunk['artist'].value_counts()\n",
        "    chunk = chunk.reset_index()\n",
        "    \n",
        "    # TO fix in next preprocessing stages\n",
        "    for row in chunk.iterrows():\n",
        "      f.write(str(row[1][0]) + ',' + str(row[1][1]) + '\\n')"
      ],
      "execution_count": 0,
      "outputs": []
    },
    {
      "cell_type": "code",
      "metadata": {
        "id": "ObtbMwGZiSGn",
        "colab_type": "code",
        "colab": {}
      },
      "source": [
        "with open(os.path.join(PATH_TO_DATA, 'data/artists_agg.csv'), 'w') as f:\n",
        "  artists = pd.read_csv(os.path.join(PATH_TO_DATA, 'data/artists.csv'), error_bad_lines=False, header=None)\n",
        "  artists.columns = ['artists', 'count']  \n",
        "  artists[['count']] = artists[['count']].convert_objects(convert_numeric=True)\n",
        "  art_agg = artists.groupby(['artists'])['count'].agg('sum')\n",
        "  art_agg.to_csv(f, header=['artists', 'count'])"
      ],
      "execution_count": 0,
      "outputs": []
    },
    {
      "cell_type": "markdown",
      "metadata": {
        "id": "BkrpZVB4Fhlp",
        "colab_type": "text"
      },
      "source": [
        "### Пользователи\n",
        "Тут считаем у кого сколько айтемов"
      ]
    },
    {
      "cell_type": "code",
      "metadata": {
        "id": "5kW9a1RSFj3R",
        "colab_type": "code",
        "colab": {}
      },
      "source": [
        "with open(os.path.join(PATH_TO_DATA, 'data/users_count.csv'), 'a') as f:\n",
        "  for chunk in pd.read_csv(os.path.join(PATH_TO_DATA, 'data/dataset_anon.csv'), \n",
        "                           iterator=True, chunksize=100000, header=None, lineterminator='\\n',\n",
        "                           error_bad_lines=False):\n",
        "    # присв. названия столбцам\n",
        "    chunk.columns = ['user', 'song', 'artist']\n",
        "    # группируемся считаемся\n",
        "    chunk = chunk['user'].value_counts()\n",
        "    # записываем в df_tmp как датафрейм & добавляем ('a')\n",
        "    df_tmp = pd.DataFrame(chunk.reset_index())\n",
        "    df_tmp.to_csv(f, header=False)"
      ],
      "execution_count": 0,
      "outputs": []
    }
  ]
}