{
  "nbformat": 4,
  "nbformat_minor": 0,
  "metadata": {
    "colab": {
      "name": "word2vec.ipynb",
      "version": "0.3.2",
      "provenance": []
    },
    "kernelspec": {
      "name": "python3",
      "display_name": "Python 3"
    }
  },
  "cells": [
    {
      "cell_type": "markdown",
      "metadata": {
        "id": "tvWTvTDSIn1g",
        "colab_type": "text"
      },
      "source": [
        "# word2vec\n",
        "На основе нескольких исполнителей предлагает новых.\n"
      ]
    },
    {
      "cell_type": "markdown",
      "metadata": {
        "id": "kaHIURltIk45",
        "colab_type": "text"
      },
      "source": [
        "бок, памаги етому проекту 🌠"
      ]
    },
    {
      "cell_type": "markdown",
      "metadata": {
        "id": "ftXYYzhDS6wb",
        "colab_type": "text"
      },
      "source": [
        "***"
      ]
    },
    {
      "cell_type": "code",
      "metadata": {
        "id": "9w_vxxPAHcE7",
        "colab_type": "code",
        "colab": {}
      },
      "source": [
        "import gensim\n",
        "import json\n",
        "import os\n",
        "import pickle\n",
        "import tqdm\n",
        "import numpy as np\n",
        "import pandas as pd \n",
        "import warnings\n",
        "warnings.filterwarnings('ignore')"
      ],
      "execution_count": 0,
      "outputs": []
    },
    {
      "cell_type": "code",
      "metadata": {
        "id": "JjuWhSy4JrCR",
        "colab_type": "code",
        "colab": {}
      },
      "source": [
        "from google.colab import drive\n",
        "drive.mount('/content/drive/')"
      ],
      "execution_count": 0,
      "outputs": []
    },
    {
      "cell_type": "code",
      "metadata": {
        "id": "SCP0TudaJvWL",
        "colab_type": "code",
        "colab": {}
      },
      "source": [
        "PATH_TO_DATA = '/content/drive/My Drive/MusicRecommenderDSMinor/'"
      ],
      "execution_count": 0,
      "outputs": []
    },
    {
      "cell_type": "markdown",
      "metadata": {
        "_uuid": "204bf57cefd07f1d2de07b91f4028432448253ed",
        "id": "OYIuYb86HjyB",
        "colab_type": "text"
      },
      "source": [
        "## Тренируем модель"
      ]
    },
    {
      "cell_type": "code",
      "metadata": {
        "trusted": true,
        "_uuid": "cd19e781a935c3dccbfc930acde213bc9a5555ae",
        "id": "oo34FSikHjyD",
        "colab_type": "code",
        "colab": {}
      },
      "source": [
        "class TextToW2V(object):\n",
        "    def __init__(self, file_path):\n",
        "        self.file_path = file_path\n",
        "\n",
        "    def __iter__(self):\n",
        "        for line in open(self.file_path, 'r'):\n",
        "            yield line.lower().split(',')[::-1]  # reverse order (make old -> new)\n",
        "\n",
        "music_collections = TextToW2V(os.path.join(PATH_TO_DATA, 'music_lists.csv'))  #"
      ],
      "execution_count": 0,
      "outputs": []
    },
    {
      "cell_type": "code",
      "metadata": {
        "trusted": true,
        "_uuid": "2d4ef829a0f092c422520d25b119f4b967c48e0f",
        "id": "6hywb-uWHjyI",
        "colab_type": "code",
        "colab": {}
      },
      "source": [
        "%%time\n",
        "estimator = gensim.models.Word2Vec(music_collections\n",
        "                                   , window=15 #  num words around target word to consider\n",
        "                                   , min_count=30 # minimum word count threshold\n",
        "                                   , sg=1, workers=4, iter=10)"
      ],
      "execution_count": 0,
      "outputs": []
    },
    {
      "cell_type": "code",
      "metadata": {
        "id": "KD1eqlDChJ8s",
        "colab_type": "code",
        "colab": {}
      },
      "source": [
        "estimator.save(os.path.join(PATH_TO_DATA,'models/w2v_90m.model'))"
      ],
      "execution_count": 0,
      "outputs": []
    },
    {
      "cell_type": "code",
      "metadata": {
        "id": "NrNyrtJdlwpm",
        "colab_type": "code",
        "outputId": "7dc52658-8e5c-476d-ad9a-5986da382658",
        "colab": {
          "base_uri": "https://localhost:8080/",
          "height": 35
        }
      },
      "source": [
        "print(model_w2v.corpus_total_words)"
      ],
      "execution_count": 0,
      "outputs": [
        {
          "output_type": "stream",
          "text": [
            "10474143\n"
          ],
          "name": "stdout"
        }
      ]
    },
    {
      "cell_type": "markdown",
      "metadata": {
        "id": "oveCNLKf44x1",
        "colab_type": "text"
      },
      "source": [
        "## Сохраняем / загружаем"
      ]
    },
    {
      "cell_type": "markdown",
      "metadata": {
        "id": "00R5twhG5RMZ",
        "colab_type": "text"
      },
      "source": [
        "Note: та, что обучалась на 10М из 90М"
      ]
    },
    {
      "cell_type": "code",
      "metadata": {
        "id": "RCU9hRun5MWc",
        "colab_type": "code",
        "colab": {}
      },
      "source": [
        "# estimator.save(os.path.join(PATH_TO_DATA,'models/w2v_10m.model'))"
      ],
      "execution_count": 0,
      "outputs": []
    },
    {
      "cell_type": "code",
      "metadata": {
        "id": "Ujwyz7C6mo_0",
        "colab_type": "code",
        "colab": {}
      },
      "source": [
        "# загрузить\n",
        "model_w2v = gensim.models.Word2Vec.load(os.path.join(PATH_TO_DATA,'models/w2v_10m.model'))"
      ],
      "execution_count": 0,
      "outputs": []
    },
    {
      "cell_type": "markdown",
      "metadata": {
        "id": "mtpjEruu41Lq",
        "colab_type": "text"
      },
      "source": [
        "## Примеры:\n",
        "(еще она находит названия с опечатками)"
      ]
    },
    {
      "cell_type": "code",
      "metadata": {
        "id": "vbI2OIT3nA6u",
        "colab_type": "code",
        "outputId": "200f61c1-1e2a-4e9d-d0db-22c03eb9550f",
        "colab": {
          "base_uri": "https://localhost:8080/",
          "height": 197
        }
      },
      "source": [
        "[a[0].strip() for a in model_w2v.wv.most_similar('beyonce', topn=10)]"
      ],
      "execution_count": 0,
      "outputs": [
        {
          "output_type": "execute_result",
          "data": {
            "text/plain": [
              "['rihanna',\n",
              " 'beyoncé',\n",
              " 'christina aguilera',\n",
              " 'justin timberlake',\n",
              " 'the weeknd',\n",
              " 'sam smith',\n",
              " 'ciara',\n",
              " 'miguel',\n",
              " 'jeremih',\n",
              " 'mary j. blige']"
            ]
          },
          "metadata": {
            "tags": []
          },
          "execution_count": 8
        }
      ]
    },
    {
      "cell_type": "code",
      "metadata": {
        "id": "IMPTpA9UzFvy",
        "colab_type": "code",
        "outputId": "76cdb216-013f-4a39-958e-9e0617459b31",
        "colab": {
          "base_uri": "https://localhost:8080/",
          "height": 197
        }
      },
      "source": [
        "[a[0].strip() for a in model_w2v.wv.most_similar('beyoncé', topn=10)]"
      ],
      "execution_count": 0,
      "outputs": [
        {
          "output_type": "execute_result",
          "data": {
            "text/plain": [
              "['beyonce',\n",
              " 'scavenger hunt',\n",
              " 'goldroom',\n",
              " 'beyoncé',\n",
              " 'møme',\n",
              " 'sam smith',\n",
              " 'beth',\n",
              " 'jessie ware',\n",
              " 'mnek',\n",
              " 'ariana grande']"
            ]
          },
          "metadata": {
            "tags": []
          },
          "execution_count": 9
        }
      ]
    },
    {
      "cell_type": "code",
      "metadata": {
        "colab_type": "code",
        "outputId": "34f4d39a-a101-4265-a47e-a469972bd6f2",
        "id": "wL7DWTq2pNSK",
        "colab": {
          "base_uri": "https://localhost:8080/",
          "height": 187
        }
      },
      "source": [
        "model_w2v.wv.most_similar('монеточка', topn=10)"
      ],
      "execution_count": 0,
      "outputs": [
        {
          "output_type": "execute_result",
          "data": {
            "text/plain": [
              "[('гречка', 0.8608981966972351),\n",
              " ('ivan valeev', 0.8253504633903503),\n",
              " ('cygo', 0.8169846534729004),\n",
              " ('rasa', 0.8137569427490234),\n",
              " ('эрика лундмоен', 0.7888537645339966),\n",
              " ('lizer', 0.7787195444107056),\n",
              " (' timran', 0.7765907645225525),\n",
              " ('панда', 0.7723791003227234),\n",
              " ('novella', 0.7712342739105225),\n",
              " ('montesuma&manula;', 0.7680323719978333)]"
            ]
          },
          "metadata": {
            "tags": []
          },
          "execution_count": 7
        }
      ]
    },
    {
      "cell_type": "code",
      "metadata": {
        "id": "rTZkHaeHAkVi",
        "colab_type": "code",
        "outputId": "d6fb64ce-2cbc-4e39-ab1d-339ad65a953e",
        "colab": {
          "base_uri": "https://localhost:8080/",
          "height": 197
        }
      },
      "source": [
        "model_w2v.wv.most_similar('ramin djawadi', topn=10)"
      ],
      "execution_count": 0,
      "outputs": [
        {
          "output_type": "execute_result",
          "data": {
            "text/plain": [
              "[('kenji kawai', 0.535142183303833),\n",
              " ('hans zimmer', 0.5162607431411743),\n",
              " ('jo blankenburg', 0.5128185749053955),\n",
              " ('position music ', 0.5061857104301453),\n",
              " (\"blackmore's night\", 0.5045263767242432),\n",
              " ('miracle of sound', 0.5027270317077637),\n",
              " ('moby', 0.49931326508522034),\n",
              " ('audiomachine', 0.4979543685913086),\n",
              " ('epic score', 0.49730318784713745),\n",
              " ('bush', 0.4942389130592346)]"
            ]
          },
          "metadata": {
            "tags": []
          },
          "execution_count": 18
        }
      ]
    },
    {
      "cell_type": "markdown",
      "metadata": {
        "id": "kaCelEJ6ChSu",
        "colab_type": "text"
      },
      "source": [
        "Нужно дообучиться уже со .strip, чтобы убрать пробелы"
      ]
    },
    {
      "cell_type": "code",
      "metadata": {
        "id": "mv_IIlb1vwJ6",
        "colab_type": "code",
        "outputId": "0b8d14f5-e8d7-4fca-9ed4-d049917e67b4",
        "colab": {
          "base_uri": "https://localhost:8080/",
          "height": 197
        }
      },
      "source": [
        "model_w2v.wv.most_similar('ariana grande', topn=10)"
      ],
      "execution_count": 6,
      "outputs": [
        {
          "output_type": "execute_result",
          "data": {
            "text/plain": [
              "[('drake', 0.6897857189178467),\n",
              " ('ariana grande ', 0.6679061055183411),\n",
              " ('zayn', 0.6075670719146729),\n",
              " (' надя дорофеева', 0.60494464635849),\n",
              " ('beyoncé', 0.5845710039138794),\n",
              " ('sam smith', 0.5806587338447571),\n",
              " ('murovei feat. kizaru', 0.5724354982376099),\n",
              " ('isaac nightingale', 0.557052493095398),\n",
              " ('5 seconds of summer', 0.5559574365615845),\n",
              " ('liam payne feat. quavo', 0.5535233616828918)]"
            ]
          },
          "metadata": {
            "tags": []
          },
          "execution_count": 6
        }
      ]
    },
    {
      "cell_type": "code",
      "metadata": {
        "id": "wfD1TzOM7ROt",
        "colab_type": "code",
        "colab": {
          "base_uri": "https://localhost:8080/",
          "height": 35
        },
        "outputId": "5e8b3b77-47d6-44a4-8293-1f1d964678ae"
      },
      "source": [
        "model_w2v.wv.similarity('ariana grande', 'монеточка')"
      ],
      "execution_count": 11,
      "outputs": [
        {
          "output_type": "execute_result",
          "data": {
            "text/plain": [
              "0.42398566"
            ]
          },
          "metadata": {
            "tags": []
          },
          "execution_count": 11
        }
      ]
    },
    {
      "cell_type": "code",
      "metadata": {
        "id": "IoCd27FgBrcB",
        "colab_type": "code",
        "outputId": "cc4b2097-e185-41d5-c5b4-254872ae6132",
        "colab": {
          "base_uri": "https://localhost:8080/",
          "height": 197
        }
      },
      "source": [
        "model_w2v.wv.most_similar('lp ', topn=10)"
      ],
      "execution_count": 0,
      "outputs": [
        {
          "output_type": "execute_result",
          "data": {
            "text/plain": [
              "[('lp', 0.7835157513618469),\n",
              " ('feder', 0.6311820149421692),\n",
              " ('clean bandit ft. sean paul & anne-marie', 0.6279041767120361),\n",
              " ('emin & ани лорак', 0.6255085468292236),\n",
              " ('arilena ara ', 0.599439263343811),\n",
              " ('indaqo', 0.5954017639160156),\n",
              " ('raving george feat. oscar & the wolf', 0.5946516990661621),\n",
              " ('matvey emerson & alex hook feat rene', 0.5935145616531372),\n",
              " ('наргиз feat. максим фадеев', 0.5901792049407959),\n",
              " ('lilly wood & robin schulz', 0.589637279510498)]"
            ]
          },
          "metadata": {
            "tags": []
          },
          "execution_count": 27
        }
      ]
    },
    {
      "cell_type": "code",
      "metadata": {
        "colab_type": "code",
        "outputId": "593c8395-f3b9-4af9-97b4-f4d796940df7",
        "id": "sR2tnxB0r6si",
        "colab": {
          "base_uri": "https://localhost:8080/",
          "height": 197
        }
      },
      "source": [
        "model_w2v.wv.most_similar('max richter', topn=10)"
      ],
      "execution_count": 0,
      "outputs": [
        {
          "output_type": "execute_result",
          "data": {
            "text/plain": [
              "[('hans zimmer', 0.6437892913818359),\n",
              " ('tim hecker', 0.6351954936981201),\n",
              " ('tom waits', 0.6164076328277588),\n",
              " ('ludovico einaudi', 0.6063662171363831),\n",
              " ('the cinematic orchestra', 0.6058288812637329),\n",
              " ('james blake', 0.6048403382301331),\n",
              " ('iamx', 0.6029541492462158),\n",
              " ('bushwacker', 0.600149393081665),\n",
              " ('ulver', 0.5972044467926025),\n",
              " ('radiohead', 0.5968706607818604)]"
            ]
          },
          "metadata": {
            "tags": []
          },
          "execution_count": 66
        }
      ]
    },
    {
      "cell_type": "markdown",
      "metadata": {
        "id": "3IOnJfyL7yxy",
        "colab_type": "text"
      },
      "source": [
        "А кто тут лишний?"
      ]
    },
    {
      "cell_type": "code",
      "metadata": {
        "id": "KENcCP9g7gRa",
        "colab_type": "code",
        "colab": {
          "base_uri": "https://localhost:8080/",
          "height": 35
        },
        "outputId": "8acda651-b9ca-49e8-bef8-02c22970788e"
      },
      "source": [
        "print(model_w2v.wv.doesnt_match(['ariana grande', 'max richter', 'drake', 'beyoncé']))"
      ],
      "execution_count": 15,
      "outputs": [
        {
          "output_type": "stream",
          "text": [
            "max richter\n"
          ],
          "name": "stdout"
        }
      ]
    }
  ]
}